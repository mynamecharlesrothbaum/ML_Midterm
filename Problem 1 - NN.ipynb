{
 "cells": [
  {
   "cell_type": "code",
   "execution_count": null,
   "metadata": {},
   "outputs": [],
   "source": [
    "# Find a dataset on Kaggle that you find interesting, put the \n",
    "# data in the in the correct directory, and include a hyperlink\n",
    "# to it here:\n",
    "# hyperlink\n",
    "\n",
    "# Packages"
   ]
  },
  {
   "cell_type": "code",
   "execution_count": null,
   "metadata": {},
   "outputs": [],
   "source": [
    "### -------- Import Data and Data Preprocessing -------- ###\n",
    "# you must include the appropriate data preprocessing steps"
   ]
  },
  {
   "cell_type": "code",
   "execution_count": null,
   "metadata": {},
   "outputs": [],
   "source": [
    "### ------------ Exploratory Data Analysis ------------- ###\n",
    "# Output two pieces of information that you found \n",
    "# informative as well as a print statement of why they\n",
    "# assisted you in choosing your model parameters"
   ]
  },
  {
   "cell_type": "code",
   "execution_count": null,
   "metadata": {},
   "outputs": [],
   "source": [
    "### ---------------- Model Definition ------------------ ###"
   ]
  },
  {
   "cell_type": "code",
   "execution_count": null,
   "metadata": {},
   "outputs": [],
   "source": [
    "### --------- Optimizer and Loss Definition ------------ ###\n",
    "# Output a print statement supporting your optimizer and \n",
    "# loss function choices"
   ]
  },
  {
   "cell_type": "code",
   "execution_count": null,
   "metadata": {},
   "outputs": [],
   "source": [
    "### ---------------- Training pt I --------------------- ###\n",
    "# Using this cell and the next, tune a minimum of 2\n",
    "# hyperparameters"
   ]
  },
  {
   "cell_type": "code",
   "execution_count": null,
   "metadata": {},
   "outputs": [],
   "source": [
    "### --------------- Validation pt I -------------------- ###\n",
    "# Print your initial accuracy, then your final accuracy \n",
    "# after tuning. Also print what hyperparameters you tuned\n",
    "# and which seemed to have the biggest impact on the accuracy"
   ]
  },
  {
   "cell_type": "code",
   "execution_count": null,
   "metadata": {},
   "outputs": [],
   "source": [
    "### ------------- Hyperparameter Tuning ---------------- ###\n",
    "# Execute a 2d grid search with a minimum of 15 samples for\n",
    "# each parameter and output a surface plot of the accuracy"
   ]
  },
  {
   "cell_type": "code",
   "execution_count": null,
   "metadata": {},
   "outputs": [],
   "source": [
    "### --------------- Training pt II --------------------- ###\n",
    "# Re-train your model using your optimal hyperparameters"
   ]
  },
  {
   "cell_type": "code",
   "execution_count": null,
   "metadata": {},
   "outputs": [],
   "source": [
    "### -------------- Validation pt II -------------------- ###\n",
    "# Print your accuracy "
   ]
  },
  {
   "cell_type": "code",
   "execution_count": null,
   "metadata": {},
   "outputs": [],
   "source": [
    "### ------------------ Testing ------------------------- ###\n",
    "# Print your final accuracy and print some comments on how\n",
    "# it compares to your validation accuracy."
   ]
  }
 ],
 "metadata": {
  "language_info": {
   "name": "python"
  }
 },
 "nbformat": 4,
 "nbformat_minor": 2
}
